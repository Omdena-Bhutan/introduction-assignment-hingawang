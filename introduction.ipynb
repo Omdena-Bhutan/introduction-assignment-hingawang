{
  "nbformat": 4,
  "nbformat_minor": 0,
  "metadata": {
    "colab": {
      "provenance": [],
      "authorship_tag": "ABX9TyNLw+5ACWefRWIOda74p2aW",
      "include_colab_link": true
    },
    "kernelspec": {
      "name": "python3",
      "display_name": "Python 3"
    },
    "language_info": {
      "name": "python"
    }
  },
  "cells": [
    {
      "cell_type": "markdown",
      "metadata": {
        "id": "view-in-github",
        "colab_type": "text"
      },
      "source": [
        "<a href=\"https://colab.research.google.com/github/Omdena-Bhutan/introduction-assignment-hingawang/blob/main/introduction.ipynb\" target=\"_parent\"><img src=\"https://colab.research.google.com/assets/colab-badge.svg\" alt=\"Open In Colab\"/></a>"
      ]
    },
    {
      "cell_type": "code",
      "execution_count": 1,
      "metadata": {
        "colab": {
          "base_uri": "https://localhost:8080/"
        },
        "id": "DqIlGZ3ZL-nL",
        "outputId": "883764f2-f3c0-4ea9-8c80-63bb1460348f"
      },
      "outputs": [
        {
          "output_type": "stream",
          "name": "stdout",
          "text": [
            "hello ngawang\n"
          ]
        }
      ],
      "source": [
        "print(\"hello ngawang\")"
      ]
    },
    {
      "cell_type": "code",
      "source": [
        "print(\"make changes to notebook\")"
      ],
      "metadata": {
        "colab": {
          "base_uri": "https://localhost:8080/"
        },
        "id": "QZI2hTppdX2k",
        "outputId": "534dd90d-3ab2-43d4-976a-67a67269552f"
      },
      "execution_count": 8,
      "outputs": [
        {
          "output_type": "stream",
          "name": "stdout",
          "text": [
            "make changes to notebook\n"
          ]
        }
      ]
    }
  ]
}